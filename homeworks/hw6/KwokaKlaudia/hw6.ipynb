{
 "cells": [
  {
   "metadata": {
    "ExecuteTime": {
     "end_time": "2025-01-15T15:20:46.871903Z",
     "start_time": "2025-01-15T15:20:45.967121Z"
    }
   },
   "cell_type": "code",
   "source": [
    "import matplotlib.pyplot as plt\n",
    "import networkx as nx\n",
    "import pandas as pd\n",
    "import re\n",
    "import ipywidgets as widgets\n",
    "from IPython.display import display"
   ],
   "id": "fcb99642a66fbcf2",
   "outputs": [],
   "execution_count": 1
  },
  {
   "metadata": {
    "ExecuteTime": {
     "end_time": "2025-01-15T15:20:46.898469Z",
     "start_time": "2025-01-15T15:20:46.889784Z"
    }
   },
   "cell_type": "code",
   "source": [
    "nodes_df = pd.read_csv('network/nodes.csv').rename(columns={'# index': 'index', ' _pos': 'pos'})\n",
    "edges_df = pd.read_csv('network/edges.csv').rename(columns={'# source': 'source', ' target': 'target', ' weight': 'weight', ' layer': 'layer'})\n",
    "props_df = pd.read_csv('network/gprops.csv', escapechar = '\\\\').rename(columns={'# prop_name': 'prop_name', ' value': 'value'})"
   ],
   "id": "64848d86068d461b",
   "outputs": [],
   "execution_count": 2
  },
  {
   "metadata": {
    "ExecuteTime": {
     "end_time": "2025-01-15T15:20:47.013834Z",
     "start_time": "2025-01-15T15:20:47.008985Z"
    }
   },
   "cell_type": "code",
   "source": "edges_df.weight.unique()",
   "id": "dde0b0c89d1c40bf",
   "outputs": [
    {
     "data": {
      "text/plain": [
       "array([1])"
      ]
     },
     "execution_count": 3,
     "metadata": {},
     "output_type": "execute_result"
    }
   ],
   "execution_count": 3
  },
  {
   "metadata": {
    "ExecuteTime": {
     "end_time": "2025-01-15T15:20:47.101160Z",
     "start_time": "2025-01-15T15:20:47.097997Z"
    }
   },
   "cell_type": "code",
   "source": "edges_df.drop(columns=['weight'], inplace=True)",
   "id": "550a619697147a7b",
   "outputs": [],
   "execution_count": 4
  },
  {
   "metadata": {
    "ExecuteTime": {
     "end_time": "2025-01-15T15:20:47.127270Z",
     "start_time": "2025-01-15T15:20:47.120218Z"
    }
   },
   "cell_type": "code",
   "source": "props_df",
   "id": "ee25f0d2825699f9",
   "outputs": [
    {
     "data": {
      "text/plain": [
       "     prop_name                                              value\n",
       "0         name                                        7th_graders\n",
       "1  description  A small multiplex network of friendships among...\n",
       "2     citation  ['M. Vickers and S. Chan, \"Representing Classr...\n",
       "3          url              https://manliodedomenico.com/data.php\n",
       "4         tags  ['Social', 'Offline', 'Multilayer', 'Unweighte...\n",
       "5    layer_key  {1: 'get_on_with', 2: 'best_friends', 3: 'work..."
      ],
      "text/html": [
       "<div>\n",
       "<style scoped>\n",
       "    .dataframe tbody tr th:only-of-type {\n",
       "        vertical-align: middle;\n",
       "    }\n",
       "\n",
       "    .dataframe tbody tr th {\n",
       "        vertical-align: top;\n",
       "    }\n",
       "\n",
       "    .dataframe thead th {\n",
       "        text-align: right;\n",
       "    }\n",
       "</style>\n",
       "<table border=\"1\" class=\"dataframe\">\n",
       "  <thead>\n",
       "    <tr style=\"text-align: right;\">\n",
       "      <th></th>\n",
       "      <th>prop_name</th>\n",
       "      <th>value</th>\n",
       "    </tr>\n",
       "  </thead>\n",
       "  <tbody>\n",
       "    <tr>\n",
       "      <th>0</th>\n",
       "      <td>name</td>\n",
       "      <td>7th_graders</td>\n",
       "    </tr>\n",
       "    <tr>\n",
       "      <th>1</th>\n",
       "      <td>description</td>\n",
       "      <td>A small multiplex network of friendships among...</td>\n",
       "    </tr>\n",
       "    <tr>\n",
       "      <th>2</th>\n",
       "      <td>citation</td>\n",
       "      <td>['M. Vickers and S. Chan, \"Representing Classr...</td>\n",
       "    </tr>\n",
       "    <tr>\n",
       "      <th>3</th>\n",
       "      <td>url</td>\n",
       "      <td>https://manliodedomenico.com/data.php</td>\n",
       "    </tr>\n",
       "    <tr>\n",
       "      <th>4</th>\n",
       "      <td>tags</td>\n",
       "      <td>['Social', 'Offline', 'Multilayer', 'Unweighte...</td>\n",
       "    </tr>\n",
       "    <tr>\n",
       "      <th>5</th>\n",
       "      <td>layer_key</td>\n",
       "      <td>{1: 'get_on_with', 2: 'best_friends', 3: 'work...</td>\n",
       "    </tr>\n",
       "  </tbody>\n",
       "</table>\n",
       "</div>"
      ]
     },
     "execution_count": 5,
     "metadata": {},
     "output_type": "execute_result"
    }
   ],
   "execution_count": 5
  },
  {
   "metadata": {
    "ExecuteTime": {
     "end_time": "2025-01-15T15:20:47.183165Z",
     "start_time": "2025-01-15T15:20:47.170862Z"
    }
   },
   "cell_type": "code",
   "source": [
    "edges_grouped = edges_df.groupby(['source', 'target']).agg(lambda x: ', '.join(map(str, x))).reset_index()\n",
    "\n",
    "pairs = set(zip(edges_grouped['source'], edges_grouped['target'], edges_grouped['layer']))\n",
    "\n",
    "edges_grouped['mutual'] = edges_grouped.apply(\n",
    "    lambda row: 1 if (row['target'], row['source'], row['layer']) in pairs else 0, axis=1\n",
    ")\n",
    "\n",
    "edges_count = edges_grouped.groupby(['layer', 'mutual']).size()"
   ],
   "id": "cbeb8526ca337fe6",
   "outputs": [],
   "execution_count": 6
  },
  {
   "metadata": {
    "ExecuteTime": {
     "end_time": "2025-01-15T15:28:39.268934Z",
     "start_time": "2025-01-15T15:28:37.056357Z"
    }
   },
   "cell_type": "code",
   "source": [
    "layer_key = {'3': 'Chciałby współpracować z', \n",
    "             '1, 3': 'Dogaduje się, Chciałby współpracować z',\n",
    "             '1, 2': 'Najlepszy przyjaciel, Dogaduje się z',\n",
    "             '1, 2, 3': 'Najlepszy przyjaciel, Dogaduje się, Chciałby współpracować z',\n",
    "             '1': 'Dogaduje się z'}\n",
    "\n",
    "def draw_graph(selected_layer):\n",
    "    \n",
    "    G = nx.DiGraph()\n",
    "    \n",
    "    for _, row in nodes_df.iterrows():\n",
    "        pattern = re.compile(r'array\\(\\[([^\\]]+)\\]\\)')\n",
    "        pos = pattern.sub(lambda m: f\"({m.group(1).strip()})\", row['pos'])\n",
    "        G.add_node(row['index'] + 1, pos=eval(pos))\n",
    "    \n",
    "    filtered_edges = edges_grouped[edges_grouped['layer'] == selected_layer]\n",
    "    \n",
    "    for _, row in filtered_edges.iterrows():\n",
    "        G.add_edge(row['source'] + 1, row['target'] + 1, layer=row['layer'])\n",
    "\n",
    "    pos = nx.get_node_attributes(G, 'pos')\n",
    "\n",
    "    fig, ax = plt.subplots(figsize=(14, 12), facecolor=\"white\")\n",
    "    \n",
    "    node_colors = ['lightblue' if node <= 12 else 'pink' for node in nodes_df['index']]\n",
    "    edge_colors = ['green' if row['mutual'] == 1 else 'gray' for _, row in filtered_edges.iterrows()]\n",
    "    \n",
    "    nx.draw(\n",
    "        G,\n",
    "        pos,\n",
    "        with_labels=True,\n",
    "        width=1.5,\n",
    "        node_size=1500,\n",
    "        node_color=node_colors,\n",
    "        edge_color = edge_colors,\n",
    "        font_size=10,\n",
    "        arrows=True,\n",
    "        arrowsize=20,\n",
    "        ax=ax\n",
    "    )\n",
    "    \n",
    "    node_handles = [\n",
    "        plt.Line2D([0], [0], marker='o', color='w', markerfacecolor='lightblue', markersize=10, label='Chłopiec'),\n",
    "        plt.Line2D([0], [0], marker='o', color='w', markerfacecolor='pink', markersize=10, label='Dziewczynka'),\n",
    "    ]\n",
    "    \n",
    "    edge_handles = [\n",
    "        plt.Line2D([0], [0], color='green', lw=4, label=f\"Wzajemna relacja ({edges_count.get((selected_layer, 1), 0)})\"),\n",
    "        plt.Line2D([0], [0], color='gray', lw=4, label=f\"Relacja jednostronna ({edges_count[selected_layer, 0]})\"),\n",
    "    ]\n",
    "    \n",
    "    plt.legend(handles=node_handles + edge_handles, loc='best')\n",
    "    \n",
    "    plt.text(0.5, -0.05, \"Uczniowie nominowali kolegów z klasy do trzech różnych aktywności (kogo lubisz w klasie, kto jest twoim najlepszym przyjacielem, i z kim chciałbyś współpracować). Graf pokazuje odpowiedzi uczniów, z strzałkami wskazującymi na wierzchołek, który został nominowany przez wierzchołek źródłowy oraz informację ile zostało udzielonych odpowiedzi danego typu, z podziałem na to czy relacja jest wzajemna czy jednostronna.\", \n",
    "             ha=\"center\", va=\"center\", fontsize=10, color=\"black\", transform=ax.transAxes, wrap = True)\n",
    "    \n",
    "    plt.title(f\"Sieć przyjaźni dla odpowiedzi: {layer_key[selected_layer]}\", fontsize=15)\n",
    "        \n",
    "    file_path = f\"plots/layer_{selected_layer}.png\"\n",
    "    plt.savefig(file_path, format=\"PNG\", bbox_inches=\"tight\", )\n",
    "      \n",
    "    plt.show()\n",
    "\n",
    "layer_selector = widgets.Dropdown(\n",
    "    options=[(layer_key[key], key) for key in layer_key],\n",
    "    description='Odpowiedź:',\n",
    "    value = '1, 2, 3'\n",
    ")\n",
    "\n",
    "widgets.interactive(draw_graph, selected_layer=layer_selector)"
   ],
   "id": "2760f4477cf853e4",
   "outputs": [
    {
     "data": {
      "text/plain": [
       "interactive(children=(Dropdown(description='Odpowiedź:', index=3, options=(('Chciałby współpracować z', '3'), …"
      ],
      "application/vnd.jupyter.widget-view+json": {
       "version_major": 2,
       "version_minor": 0,
       "model_id": "14310ff8097643c3bf724cf047a6719e"
      }
     },
     "execution_count": 13,
     "metadata": {},
     "output_type": "execute_result"
    }
   ],
   "execution_count": 13
  },
  {
   "metadata": {
    "ExecuteTime": {
     "end_time": "2025-01-15T15:20:49.882657Z",
     "start_time": "2025-01-15T15:20:49.878561Z"
    }
   },
   "cell_type": "code",
   "source": "",
   "id": "dfadf0defbad5379",
   "outputs": [],
   "execution_count": null
  }
 ],
 "metadata": {
  "kernelspec": {
   "display_name": "Python 3",
   "language": "python",
   "name": "python3"
  },
  "language_info": {
   "codemirror_mode": {
    "name": "ipython",
    "version": 2
   },
   "file_extension": ".py",
   "mimetype": "text/x-python",
   "name": "python",
   "nbconvert_exporter": "python",
   "pygments_lexer": "ipython2",
   "version": "2.7.6"
  }
 },
 "nbformat": 4,
 "nbformat_minor": 5
}
