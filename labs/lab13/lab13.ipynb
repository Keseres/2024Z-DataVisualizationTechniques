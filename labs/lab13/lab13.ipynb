{
 "cells": [
  {
   "cell_type": "code",
   "execution_count": null,
   "id": "6449d5d6",
   "metadata": {},
   "outputs": [],
   "source": [
    "import networkx as nx\n",
    "\n",
    "import matplotlib.pyplot as plt\n",
    "import matplotlib as mpl\n",
    "\n",
    "import numpy as np\n",
    "import pandas as pd"
   ]
  },
  {
   "cell_type": "markdown",
   "id": "5bea3b66",
   "metadata": {},
   "source": [
    "# Wizualizacja grafów"
   ]
  },
  {
   "cell_type": "markdown",
   "id": "af063af2",
   "metadata": {},
   "source": [
    "## Podstawy\n",
    "Do rysowania wykorzystuje się funkcje `nx.draw()`, która wywołuje funkcję `nx.draw_networkx()`. Z kolei `nx.draw_networkx()` wywołuje funkcje rysujące kolejno różne elementy grafu:\n",
    "- `nx.draw_networkx_nodes()` - wierzchołki,\n",
    "- `nx.draw_networkx_edges()` - krawędzie,\n",
    "- `nx.draw_networkx_labels()` - etykiety wierzchołków,\n",
    "- `nx.draw_networkx_edge_labels()` - etykiety krawędzi.\n",
    "\n",
    "Można też wywołać te funkcje bezpośrednio."
   ]
  },
  {
   "cell_type": "code",
   "execution_count": null,
   "id": "e39d2b2f",
   "metadata": {},
   "outputs": [],
   "source": [
    "edgelist_df = pd.DataFrame({\n",
    "    \"source\": [\"A\", \"A\", \"A\", \"B\", \"B\", \"C\", \"D\", \"E\"],\n",
    "    \"target\": [\"B\", \"C\", \"D\", \"E\", \"F\", \"G\", \"H\", \"I\"],\n",
    "    \"weight\": [5, 2, 1, 2, 3, 5, 4, 1]\n",
    "})\n",
    "edgelist_df"
   ]
  },
  {
   "cell_type": "code",
   "execution_count": null,
   "id": "15d97e60",
   "metadata": {},
   "outputs": [],
   "source": [
    "nodes_values = dict(zip([\"A\", \"B\", \"C\", \"D\", \"E\", \"F\", \"G\", \"H\", \"I\"], [1, 2, 3, 4, 5, 6, 7, 8, 9]))\n",
    "nodes_values"
   ]
  },
  {
   "cell_type": "code",
   "execution_count": null,
   "id": "80e940bd",
   "metadata": {},
   "outputs": [],
   "source": [
    "graph = nx.from_pandas_edgelist(edgelist_df, edge_attr=True)  # tworzenie grafu z listy krawędzi (są też inne metody)\n",
    "nx.set_node_attributes(graph, nodes_values, \"value\")  # aktualizacja atrybutów wierzchołków"
   ]
  },
  {
   "cell_type": "code",
   "execution_count": null,
   "id": "bf2e6ef2",
   "metadata": {},
   "outputs": [],
   "source": [
    "graph.nodes(data=True)"
   ]
  },
  {
   "cell_type": "code",
   "execution_count": null,
   "id": "87fb5de4",
   "metadata": {},
   "outputs": [],
   "source": [
    "graph.edges(data=True)"
   ]
  },
  {
   "cell_type": "code",
   "execution_count": null,
   "id": "1b048848",
   "metadata": {},
   "outputs": [],
   "source": [
    "plt.figure(figsize=(8, 4))\n",
    "nx.draw(graph)"
   ]
  },
  {
   "cell_type": "code",
   "execution_count": null,
   "id": "61ec2ab6",
   "metadata": {},
   "outputs": [],
   "source": [
    "plt.figure(figsize=(8, 4))\n",
    "nx.draw(graph, with_labels=True, node_color=\"red\", edge_color=\"gray\")"
   ]
  },
  {
   "cell_type": "code",
   "execution_count": null,
   "id": "1f43c887",
   "metadata": {},
   "outputs": [],
   "source": [
    "plt.figure(figsize=(8, 4))\n",
    "nx.draw(\n",
    "    graph,\n",
    "    with_labels=True,\n",
    "    node_color=\"red\",\n",
    "    node_shape=\"s\",\n",
    "    edge_color=\"gray\",\n",
    "    node_size=[v[1][\"value\"] * 100 for v in graph.nodes(data=True)],\n",
    "    width=[e[2][\"weight\"] for e in graph.edges(data=True)],\n",
    ")"
   ]
  },
  {
   "cell_type": "markdown",
   "id": "5c30a79e",
   "metadata": {},
   "source": [
    "## Pozycje wierzchołków - layout grafu \n",
    "Jest wiele sposobów na wyznaczenie pozycji wierzchołków grafu. W `networkx` dostępne są między innymi następujące metody:\n",
    "- `nx.circular_layout()` - wierzchołki są rozmieszczone na okręgu,\n",
    "- `nx.random_layout()` - wierzchołki są rozmieszczone losowo,\n",
    "- `nx.spring_layout()` - wierzchołki są rozmieszczone zgodnie z algorytmem Fruchtermana-Reingolda (opartym na symulacji fizycznej) [**domyślny**], \n",
    "- `nx.spectral_layout()` - wierzchołki są rozmieszczone zgodnie z algorytmem bazującym na wektorach własnych Laplasjanu grafu (*graph Laplacian*),\n",
    "- `nx.kamada_kawai_layout()` - wierzchołki są rozmieszczone zgodnie z algorytmem Kamady-Kawai (opartym na symulacji fizycznej)."
   ]
  },
  {
   "cell_type": "code",
   "execution_count": null,
   "id": "57047fcf",
   "metadata": {},
   "outputs": [],
   "source": [
    "g = nx.karate_club_graph() # trochę większy graf\n",
    "nx.draw(g, with_labels=True)"
   ]
  },
  {
   "cell_type": "code",
   "execution_count": null,
   "id": "8a5c63db",
   "metadata": {},
   "outputs": [],
   "source": [
    "pos = nx.spring_layout(g, seed=42) # pozycje wierzchołków - losowe, ale ustalone ziarno\n",
    "pos"
   ]
  },
  {
   "cell_type": "code",
   "execution_count": null,
   "id": "f8ef72a1",
   "metadata": {},
   "outputs": [],
   "source": [
    "nx.draw(g, pos=pos, with_labels=True)"
   ]
  },
  {
   "cell_type": "code",
   "execution_count": null,
   "id": "eb9220a6",
   "metadata": {},
   "outputs": [],
   "source": [
    "positions = {\n",
    "    \"spring\": nx.spring_layout(g, seed=42, ),\n",
    "    \"circular\": nx.circular_layout(g),\n",
    "    \"random\": nx.random_layout(g, seed=42),\n",
    "    \"spectral\": nx.spectral_layout(g),\n",
    "    \"kamada_kawai\": nx.kamada_kawai_layout(g),\n",
    "}\n",
    "\n",
    "fig, axs = plt.subplots(2, 3, figsize=(16, 8))\n",
    "axs = axs.flatten()\n",
    "for i, (name, pos) in enumerate(positions.items()):\n",
    "    axs[i].set_title(name)\n",
    "    nx.draw(g, pos=pos, with_labels=True, node_size=200, font_size=8, ax=axs[i])\n",
    "\n",
    "axs[5].set_visible(False)  # żeby nie było pustego wykresu"
   ]
  },
  {
   "cell_type": "markdown",
   "id": "624c7fb6",
   "metadata": {},
   "source": [
    "## Tworzenie legendy \n",
    "Niestety legendy nie da się zrobić w łatwy sposób."
   ]
  },
  {
   "cell_type": "code",
   "execution_count": null,
   "id": "4f844cdf",
   "metadata": {},
   "outputs": [],
   "source": [
    "fig, ax = plt.subplots(1, 1, figsize=(8, 4))\n",
    "nx.draw(\n",
    "    graph,\n",
    "    pos=nx.spring_layout(graph, seed=42),\n",
    "    with_labels=True,\n",
    "    node_color=\"red\",\n",
    "    node_shape=\"s\",\n",
    "    edge_color=\"gray\",\n",
    "    node_size=[v[1][\"value\"] * 100 for v in graph.nodes(data=True)],\n",
    "    width=[e[2][\"weight\"] for e in graph.edges(data=True)],\n",
    "    ax=ax,\n",
    ")\n",
    "\n",
    "# dodawanie kilku legend - hacki ze StackOverflow\n",
    "node_sizes = [v[1][\"value\"] for v in graph.nodes(data=True)]\n",
    "for v in np.quantile(node_sizes, np.linspace(0, 1, 5)):\n",
    "    ax.plot([], [], \"rs\", markersize=np.sqrt(v * 100), label=v)\n",
    "first_legend = ax.legend(\n",
    "    labelspacing=2, title=\"Node size - value\", frameon=False, ncol=5, loc=\"center right\", bbox_to_anchor=(1, -0.1)\n",
    ")\n",
    "ax.add_artist(first_legend)\n",
    "\n",
    "edge_sizes = [e[2][\"weight\"] for e in graph.edges(data=True)]\n",
    "ax.legend(\n",
    "    handles=[mpl.lines.Line2D([], [], color=\"k\", linewidth=e) for e in np.unique(edge_sizes)],\n",
    "    labels=list(np.unique(edge_sizes)),\n",
    "    loc = \"center left\", \n",
    "    bbox_to_anchor=(0, -0.1),\n",
    "    frameon=False,\n",
    "    title=\"Edge width - weight\",\n",
    ")\n",
    "plt.show()"
   ]
  },
  {
   "cell_type": "markdown",
   "id": "27a06c5e",
   "metadata": {},
   "source": [
    "## Przykład wizualizacji większego grafu"
   ]
  },
  {
   "cell_type": "code",
   "execution_count": null,
   "id": "f1dd840b",
   "metadata": {},
   "outputs": [],
   "source": [
    "got_s1_edges = pd.read_csv(\"https://raw.githubusercontent.com/mathbeveridge/gameofthrones/master/data/got-s1-edges.csv\")\n",
    "got_s1_edges.head()"
   ]
  },
  {
   "cell_type": "code",
   "execution_count": null,
   "id": "1aad3194",
   "metadata": {},
   "outputs": [],
   "source": [
    "got_s1_nodes = pd.read_csv(\"https://raw.githubusercontent.com/mathbeveridge/gameofthrones/master/data/got-s1-nodes.csv\")\n",
    "got_s1_nodes.head()"
   ]
  },
  {
   "cell_type": "code",
   "execution_count": null,
   "id": "af64970d",
   "metadata": {},
   "outputs": [],
   "source": [
    "got_graph = nx.from_pandas_edgelist(got_s1_edges, \"Source\", \"Target\", edge_attr=\"Weight\")"
   ]
  },
  {
   "cell_type": "code",
   "execution_count": null,
   "id": "ad607013",
   "metadata": {},
   "outputs": [],
   "source": [
    "node_labels_dict = got_s1_nodes.set_index(\"Id\")[\"Label\"].to_dict()\n",
    "nx.relabel_nodes(got_graph, node_labels_dict, copy=False) # zmiana nazw wierzchołków na podstawie słownika "
   ]
  },
  {
   "cell_type": "code",
   "execution_count": null,
   "id": "22d98fd9",
   "metadata": {},
   "outputs": [],
   "source": [
    "# do ustalenia szerokości krawędzi\n",
    "weights = np.array([e[2][\"Weight\"] for e in got_graph.edges(data=True)])\n",
    "max_weight = np.max(weights)"
   ]
  },
  {
   "cell_type": "code",
   "execution_count": null,
   "id": "8f14a2a1",
   "metadata": {},
   "outputs": [],
   "source": [
    "plt.hist(weights, bins=30) # pomocniczy wykres do ustalenia legendy szerokości krawędzi\n",
    "plt.show()"
   ]
  },
  {
   "cell_type": "code",
   "execution_count": null,
   "id": "b785abf8",
   "metadata": {},
   "outputs": [],
   "source": [
    "# do ustalenia wielkości wierzchołków\n",
    "node_degree = dict(got_graph.degree(weight = \"Weight\"))\n",
    "node_size = np.array([node_degree[n] for n in got_graph.nodes()])"
   ]
  },
  {
   "cell_type": "code",
   "execution_count": null,
   "id": "043d8338",
   "metadata": {},
   "outputs": [],
   "source": [
    "pos = nx.kamada_kawai_layout(got_graph)"
   ]
  },
  {
   "cell_type": "code",
   "execution_count": null,
   "id": "b448d666",
   "metadata": {},
   "outputs": [],
   "source": [
    "fig, ax = plt.subplots(1, 1, figsize=(16, 16), dpi = 300)\n",
    "\n",
    "# rysowanie warstwowo w celu lepszej kontroli (np. różny poziom przezroczystości)\n",
    "ax.set_title(\"Game of Thrones season 1 network\", fontsize=20)\n",
    "\n",
    "nx.draw_networkx_nodes(got_graph, \n",
    "    pos=pos, \n",
    "    node_color=\"firebrick\", \n",
    "    node_size=node_size/2, \n",
    "    ax=ax\n",
    ")\n",
    "\n",
    "nx.draw_networkx_edges(\n",
    "    got_graph,\n",
    "    pos=pos,\n",
    "    width=np.sqrt(weights / max_weight) * 10,\n",
    "    edge_color=\"gray\",\n",
    "    alpha=0.5, # półprzezroczyste krawędzie\n",
    "    ax=ax,\n",
    ")\n",
    "\n",
    "for i, (node, (x, y)) in enumerate(pos.items()):\n",
    "    ax.text(x, y - 0.02, node, fontsize=7 + np.log(node_size[i]), ha=\"center\", va=\"center\")\n",
    "\n",
    "for w in [1, 5, 10, 20, 50, 100, 200]:\n",
    "    ax.plot([], [], \"gray\", linewidth=np.sqrt(w) / np.sqrt(max_weight) * 10, label=w)\n",
    "ax.legend(title=\"Number of interactions\", frameon=False, bbox_to_anchor=(0, 0.1), loc = \"lower left\")\n",
    "ax.text(0.01, 0.1, \n",
    "\"\"\"There are five interaction types. \n",
    "Character A and Character B are connected whenever:\n",
    "- Character A speaks directly after Character B\n",
    "- Character A speaks about Character B\n",
    "- Character C speaks about Character A and Character B\n",
    "- Character A and Character B are mentioned in the same stage direction\n",
    "- Character A and Character B appear in a scene together\"\"\", \n",
    "    fontsize=8, \n",
    "    transform=ax.transAxes,\n",
    "    verticalalignment=\"top\" ) # określamy bezwzględne współrzędne tekstu\n",
    "plt.axis(\"off\")\n",
    "plt.show()"
   ]
  },
  {
   "cell_type": "markdown",
   "id": "889bd2c9",
   "metadata": {},
   "source": [
    "## Inny pakiet do wizualizacji grafów - `netgraph`\n",
    "https://netgraph.readthedocs.io/en/latest/index.html \n",
    "\n",
    "Niestety w wielu sytuacjach działa dość wolno, ale warto zobaczyć przykłady, np.: https://python-graph-gallery.com/500-network-chart-with-edge-bundling/. "
   ]
  },
  {
   "cell_type": "markdown",
   "id": "1f8e3166",
   "metadata": {},
   "source": [
    "# `matplotlib` - poziom zaawansowany"
   ]
  },
  {
   "cell_type": "markdown",
   "id": "4f930d0a",
   "metadata": {},
   "source": [
    "## Konfiguracja `matplotlib`\n",
    "\n",
    "**Jak dostosować właściwości i domyślny wygląd wykresów?**\n",
    "- ustawiając `rcParams` (*runtime configuration parameters*),\n",
    "- używając predefiniowanych stylów,\n",
    "- tworząc/modyfikując plik `matplotlibrc` (*matplotlib runtime configuration*).\n",
    "\n",
    "**Po co to robić?** \n",
    "\n",
    "- dla spójnego i jednolitego wyglądu wykresów:\n",
    "    - w projekcie (raport, prezentacja, praca dyplomowa, ...),\n",
    "    - w firmie (np. z wykorzystaniem szablonów, w zgodzie z identyfikacją wizualną);\n",
    "- dla skrócenia czasu tworzenia wykresów i kodu potrzebnego do ich modyfikacji. \n"
   ]
  },
  {
   "cell_type": "markdown",
   "id": "7d4cd4aa",
   "metadata": {},
   "source": [
    "### edytowanie `rcParams`"
   ]
  },
  {
   "cell_type": "code",
   "execution_count": null,
   "id": "b4899ca6",
   "metadata": {},
   "outputs": [],
   "source": [
    "mpl.rcParams # słownik z aktualnymi ustawieniami"
   ]
  },
  {
   "cell_type": "code",
   "execution_count": null,
   "id": "b35688b2",
   "metadata": {},
   "outputs": [],
   "source": [
    "# domyślny wykres\n",
    "np.random.seed(0)\n",
    "data1 = np.random.normal(loc=-1, size=50)\n",
    "data2 = np.random.normal(loc=1, size=50)\n",
    "\n",
    "def example_plot():\n",
    "    fig, axs = plt.subplots(1, 2)\n",
    "    axs[0].plot(data1)\n",
    "    axs[0].plot(data2)\n",
    "    axs[1].hist(data1, alpha=0.5)\n",
    "    axs[1].hist(data2, alpha=0.5)\n",
    "    plt.show()\n",
    "\n",
    "example_plot()"
   ]
  },
  {
   "cell_type": "markdown",
   "id": "b20568ac",
   "metadata": {},
   "source": [
    "#### zmiana domyślnego rozmiaru wykresu i czcionki\n",
    "(często przydatne do raportu lub prezentacji)"
   ]
  },
  {
   "cell_type": "code",
   "execution_count": null,
   "id": "b76ce99a",
   "metadata": {},
   "outputs": [],
   "source": [
    "print(mpl.rcParams[\"figure.figsize\"])\n",
    "print(mpl.rcParams[\"font.size\"])"
   ]
  },
  {
   "cell_type": "code",
   "execution_count": null,
   "id": "e6f09549",
   "metadata": {},
   "outputs": [],
   "source": [
    "mpl.rcParams[\"figure.figsize\"] = (12, 6)\n",
    "mpl.rcParams[\"font.size\"] = 15"
   ]
  },
  {
   "cell_type": "code",
   "execution_count": null,
   "id": "f610e605",
   "metadata": {},
   "outputs": [],
   "source": [
    "example_plot()"
   ]
  },
  {
   "cell_type": "markdown",
   "id": "2a640151",
   "metadata": {},
   "source": [
    "#### zmiana sekwencji kolorów "
   ]
  },
  {
   "cell_type": "code",
   "execution_count": null,
   "id": "03c8dc4f",
   "metadata": {},
   "outputs": [],
   "source": [
    "mpl.rcParams[\"axes.prop_cycle\"] # domyślny cykl kolorów"
   ]
  },
  {
   "cell_type": "code",
   "execution_count": null,
   "id": "53721420",
   "metadata": {},
   "outputs": [],
   "source": [
    "mpl.rcParams[\"axes.prop_cycle\"] = mpl.cycler(color=[\"darkviolet\", \"forestgreen\"]) # interesująca nas paleta kolorów"
   ]
  },
  {
   "cell_type": "code",
   "execution_count": null,
   "id": "8143eed0",
   "metadata": {},
   "outputs": [],
   "source": [
    "# wykres z nowymi ustawieniami\n",
    "example_plot()"
   ]
  },
  {
   "cell_type": "markdown",
   "id": "8334e851",
   "metadata": {},
   "source": [
    "#### zmiana stylu konkretnej grupy elementów \n",
    "np. linii, markerów, siatki, ..."
   ]
  },
  {
   "cell_type": "code",
   "execution_count": null,
   "id": "beedbbdb",
   "metadata": {},
   "outputs": [],
   "source": [
    "# linie\n",
    "mpl.rcParams[\"lines.linewidth\"] = 4\n",
    "mpl.rcParams[\"lines.linestyle\"] = \"--\"\n",
    "\n",
    "# biny histogramu\n",
    "mpl.rcParams[\"hist.bins\"] = 6\n",
    "\n",
    "# słupki (patch)\n",
    "mpl.rcParams[\"patch.force_edgecolor\"] = True  \n",
    "\n",
    "# siatka na wykresie\n",
    "mpl.rcParams[\"axes.grid\"] = True  # żeby była siatka na wykresie\n",
    "mpl.rcParams[\"axes.axisbelow\"] = True  # żeby siatka była pod wykresem (domyślnie jest tylko pod liniami, ale nie pod punktami/słupkami)"
   ]
  },
  {
   "cell_type": "code",
   "execution_count": null,
   "id": "3efad380",
   "metadata": {},
   "outputs": [],
   "source": [
    "# wykres z nowymi ustawieniami\n",
    "example_plot()"
   ]
  },
  {
   "cell_type": "code",
   "execution_count": null,
   "id": "2d950efd",
   "metadata": {},
   "outputs": [],
   "source": [
    "# parametry w obrębie jednej grupy można też zmieniać tak:\n",
    "mpl.rc(\"lines\", linewidth=1, linestyle=\"-.\")"
   ]
  },
  {
   "cell_type": "code",
   "execution_count": null,
   "id": "3a6e0deb",
   "metadata": {},
   "outputs": [],
   "source": [
    "example_plot()"
   ]
  },
  {
   "cell_type": "markdown",
   "id": "25e8827b",
   "metadata": {},
   "source": [
    "#### powrót do domyślnych ustawień"
   ]
  },
  {
   "cell_type": "code",
   "execution_count": null,
   "id": "00d99f3e",
   "metadata": {},
   "outputs": [],
   "source": [
    "plt.rcdefaults()"
   ]
  },
  {
   "cell_type": "code",
   "execution_count": null,
   "id": "f3c9816d",
   "metadata": {},
   "outputs": [],
   "source": [
    "example_plot()"
   ]
  },
  {
   "cell_type": "markdown",
   "id": "ebed1548",
   "metadata": {},
   "source": [
    "### gotowe style\n",
    "https://matplotlib.org/stable/gallery/style_sheets/style_sheets_reference.html"
   ]
  },
  {
   "cell_type": "code",
   "execution_count": null,
   "id": "57873ffb",
   "metadata": {},
   "outputs": [],
   "source": [
    "print(plt.style.available)"
   ]
  },
  {
   "cell_type": "code",
   "execution_count": null,
   "id": "3953b570",
   "metadata": {},
   "outputs": [],
   "source": [
    "plt.style.use(\"ggplot\")"
   ]
  },
  {
   "cell_type": "code",
   "execution_count": null,
   "id": "c6150c16",
   "metadata": {},
   "outputs": [],
   "source": [
    "example_plot()"
   ]
  },
  {
   "cell_type": "code",
   "execution_count": null,
   "id": "25a850fe",
   "metadata": {},
   "outputs": [],
   "source": [
    "plt.style.use(\"dark_background\")"
   ]
  },
  {
   "cell_type": "code",
   "execution_count": null,
   "id": "3f0b37da",
   "metadata": {},
   "outputs": [],
   "source": [
    "example_plot()"
   ]
  },
  {
   "cell_type": "code",
   "execution_count": null,
   "id": "faaa77cc",
   "metadata": {},
   "outputs": [],
   "source": [
    "plt.rcdefaults()"
   ]
  },
  {
   "cell_type": "markdown",
   "id": "cb4e1413",
   "metadata": {},
   "source": [
    "## `matplotlib` - przydatne wskazówki\n",
    "\n",
    "![](https://matplotlib.org/cheatsheets/_images/cheatsheets-1.png)"
   ]
  },
  {
   "cell_type": "markdown",
   "id": "2490d27c",
   "metadata": {},
   "source": [
    "### złożone, dwuwymiarowe `subplots`\n",
    "- spłaszczenie `axes` - `ax.flatten()`\n",
    "- `plt.tight_layout()` w przypadku problemów z nachodzeniem się elementów\n",
    "- `ax.set_facecolor()` w celu wyróżnienia jednego z wykresów"
   ]
  },
  {
   "cell_type": "code",
   "execution_count": null,
   "id": "df61886b",
   "metadata": {},
   "outputs": [],
   "source": [
    "mu = np.linspace(-4, 4, 9)\n",
    "mu "
   ]
  },
  {
   "cell_type": "code",
   "execution_count": null,
   "id": "91cade6b",
   "metadata": {},
   "outputs": [],
   "source": [
    "# przed\n",
    "fig, axs = plt.subplots(3, 3, figsize=(8, 6))\n",
    "for i in range(3):\n",
    "    for j in range(3):\n",
    "        index = 3*i + j # :( \n",
    "        axs[i, j].hist(np.random.normal(loc=mu[index], size=1000), bins=30)\n",
    "        axs[i, j].set_xlim(-7, 7)\n",
    "        axs[i, j].set_title(f\"mu = {mu[index]}\")\n",
    "plt.suptitle(\"Histogramy próbki z rozkładu normalnego o różnych średnich\")\n",
    "plt.show()"
   ]
  },
  {
   "cell_type": "code",
   "execution_count": null,
   "id": "f2ca0a8e",
   "metadata": {},
   "outputs": [],
   "source": [
    "# po\n",
    "fig, axs = plt.subplots(3, 3, figsize=(8, 6))\n",
    "axs = axs.flatten()  # żeby nie trzeba było odwoływać się do dwuwymiarowej tablicy\n",
    "for i in range(len(axs)):\n",
    "    axs[i].hist(np.random.normal(loc=mu[i], size=1000), bins=30)\n",
    "    axs[i].set_xlim(-7, 7)\n",
    "    axs[i].set_title(f\"$\\mu$ = {mu[i]}\") # użycie TeXa\n",
    "axs[4].set_facecolor(\"mistyrose\")  # zmiana koloru tła\n",
    "plt.suptitle(\"Histogramy próbki z rozkładu normalnego o różnych średnich\")\n",
    "plt.tight_layout()  # żeby się nie nakładały\n",
    "plt.show()"
   ]
  },
  {
   "cell_type": "markdown",
   "id": "261eed56",
   "metadata": {},
   "source": [
    "### dodawanie anotacji, edycja podpisów osi, ... "
   ]
  },
  {
   "cell_type": "code",
   "execution_count": null,
   "id": "520cc6c4",
   "metadata": {},
   "outputs": [],
   "source": [
    "x = np.linspace(0, 12 * np.pi, 1000)\n",
    "y = np.sin(x)"
   ]
  },
  {
   "cell_type": "code",
   "execution_count": null,
   "id": "46b09366",
   "metadata": {},
   "outputs": [],
   "source": [
    "# podstawowy wykres\n",
    "fig, ax = plt.subplots(1, 1, figsize=(8, 2))\n",
    "ax.plot(x, y, color=\"darkblue\")\n",
    "plt.show()"
   ]
  },
  {
   "cell_type": "code",
   "execution_count": null,
   "id": "454097f5",
   "metadata": {},
   "outputs": [],
   "source": [
    "# poprawiony wykres\n",
    "fig, ax = plt.subplots(1, 1, figsize=(8, 2))\n",
    "ax.plot(x, y, color=\"darkblue\")\n",
    "\n",
    "# zacieniowanie obszaru, dodanie anotacji\n",
    "ax.fill_betweenx([-1.1, 1.1], 0, 2 * np.pi, alpha=0.5, color=\"lightblue\")\n",
    "ax.text(np.pi / 2, -0.5, \"okres\", ha=\"center\", va=\"center\", color=\"darkblue\")\n",
    "\n",
    "# usunięcie białych marginesów przez zmianę granic osi\n",
    "ax.set_xlim(0, 12 * np.pi)\n",
    "ax.set_ylim(-1.1, 1.1)\n",
    "\n",
    "# poprawa podpisów na osi x\n",
    "ax.xaxis.set_major_locator(mpl.ticker.MultipleLocator(base=np.pi))  # ustawienie podziałki co pi\n",
    "ax.xaxis.set_major_formatter(\n",
    "    mpl.ticker.FuncFormatter(lambda val, pos: f\"${val / np.pi:.0f}\\pi$\")\n",
    ")  # użycie TeXa do wyświetlania symbolu pi\n",
    "# matplotlib.ticker.FuncFormatter -- funkcja powinna przyjmować wartość i pozycję, a zwracać stringa do wyświetlenia\n",
    "ax.xaxis.set_minor_locator(mpl.ticker.AutoMinorLocator(n=2))  # podziałka co pi/2\n",
    "\n",
    "plt.show()"
   ]
  },
  {
   "cell_type": "markdown",
   "id": "48601c98",
   "metadata": {},
   "source": [
    "### zapisywanie wykresów do pliku\n",
    "\n",
    "**Przydatne argumenty:**\n",
    "- `dpi` - dots per inch (rozdzielczość)\n",
    "- `bbox_inches` - określa obszar, który ma być zapisany do pliku\n",
    "- `transparent` - czy tło ma być przezroczyste\n",
    "\n",
    "\n",
    "**O formatach:**\n",
    "- Do raportów (w szczególności robionych w LaTeX-u) najlepiej zapisywać wykresy jako grafikę wektorową (np. `pdf` lub `svg`). Można wtedy wykorzystać np. Inkscape do dalszej edycji. \n",
    "- Jeśli konieczny jest format rastrowy, to lepiej użyć `png` niż `jpg` (lepsza jakość, wspiera przezroczystość).\n",
    "- Do raportów w LaTeX-u można też użyć `pgf` (grafiki wektorowe z kodu) - wtedy wykresy są generowane przez LaTeX-a. Wymaga to zainstalowania dodatkowych pakietów, ale pozwala na zachowanie spójności czcionek i wyglądu wykresów z tekstem w dokumencie, a także na wykorzystanie na figurach LaTeX-owych poleceń (np. referencji do innego obiektu w dokumencie)."
   ]
  },
  {
   "cell_type": "code",
   "execution_count": null,
   "id": "bc90f9e4",
   "metadata": {},
   "outputs": [],
   "source": [
    "fig"
   ]
  },
  {
   "cell_type": "code",
   "execution_count": null,
   "id": "a6441a5c",
   "metadata": {},
   "outputs": [],
   "source": [
    "fig.savefig(\"wykres1.png\") "
   ]
  },
  {
   "cell_type": "code",
   "execution_count": null,
   "id": "8e24ccda",
   "metadata": {},
   "outputs": [],
   "source": [
    "fig.savefig(\"wykres2.png\", dpi=500, bbox_inches=\"tight\") "
   ]
  },
  {
   "cell_type": "code",
   "execution_count": null,
   "id": "3fc57b89",
   "metadata": {},
   "outputs": [],
   "source": [
    "fig.savefig(\"wykres3.png\", dpi=500, bbox_inches=\"tight\", transparent=True)"
   ]
  },
  {
   "cell_type": "code",
   "execution_count": null,
   "id": "c4a4e2a7",
   "metadata": {},
   "outputs": [],
   "source": [
    "fig.savefig(\"wykres.pdf\", bbox_inches=\"tight\") # zapis do PDFa - grafika wektorowa"
   ]
  },
  {
   "cell_type": "code",
   "execution_count": null,
   "id": "635160d4",
   "metadata": {},
   "outputs": [],
   "source": [
    "fig.savefig(\"wykres.pgf\", bbox_inches=\"tight\") # zapis do PGF"
   ]
  },
  {
   "cell_type": "markdown",
   "id": "50d341f0",
   "metadata": {},
   "source": [
    "## `seaborn` - bardziej zaawansowane typy wykresów"
   ]
  },
  {
   "cell_type": "code",
   "execution_count": null,
   "id": "6addabbd",
   "metadata": {},
   "outputs": [],
   "source": [
    "import matplotlib.pyplot as plt\n",
    "import matplotlib as mpl\n",
    "import seaborn as sns\n",
    "\n",
    "import numpy as np\n",
    "import pandas as pd"
   ]
  },
  {
   "cell_type": "markdown",
   "id": "aa63514f",
   "metadata": {},
   "source": [
    "### rozkłady dwuwymiarowe (wraz z rozkładami brzegowymi)\n",
    "`sns.jointplot()`\n",
    "- `kind` - typ wykresu: \n",
    "    - `scatter` - wykres punktowy + histogramy,\n",
    "    - `reg` - wykres punktowy z prostą regresji liniowej + histogramy z gęstościami brzegowymi,\n",
    "    - `kde` - wykres dwuwymiarowej gęstości + gęstości brzegowe,\n",
    "    - `hist` - dwuwymiarowy histogram + histogramy,\n",
    "    - `hex` - dwuwymiarowy histogram z binami sześciokątnymi + histogramy\n",
    "\n",
    "- pod spodem wykorzystywane są inne funkcje: `sns.scatterplot()`, `sns.regplot()`, `sns.kdeplot()`, `sns.histplot()`, `sns.jointplot()`\n"
   ]
  },
  {
   "cell_type": "markdown",
   "id": "9a359e5a",
   "metadata": {},
   "source": [
    "### 'ulepszony' boxplot \n",
    "`sns.boxplot()`\n",
    "\n",
    "Boxenplot (zwany też letter-value plot) pokazuje więcej informacji o rozkładzie danych niż standardowy boxplot (można odczytać więcej kwantyli niż tylko kwartyle). \n",
    "W szczególności jest to przydatne, gdy mamy do czynienia z dużą liczbą obserwacji lub chcemy zwrócić uwagę na ogony rozkładu.\n"
   ]
  },
  {
   "cell_type": "code",
   "execution_count": null,
   "id": "765c507f",
   "metadata": {},
   "outputs": [],
   "source": [
    "fig, axs = plt.subplots(2, 1, figsize=(8, 5), dpi=200)\n",
    "\n",
    "sns.boxplot(x = df[\"Total\"], ax=axs[0])\n",
    "axs[0].set_title(\"Boxplot\")\n",
    "\n",
    "sns.boxenplot(x = df[\"Total\"], ax=axs[1])\n",
    "axs[1].set_title(\"Boxenplot\")\n",
    "\n",
    "plt.tight_layout()\n",
    "plt.show()"
   ]
  },
  {
   "cell_type": "markdown",
   "id": "263da4e2",
   "metadata": {},
   "source": [
    "### rugplot - wykres dywanikowy/kreskowy \n",
    "Najczęściej używany w połączeniu z innymi wykresami w celu pokazania rozkładu zmiennej wzdłuż osi.  "
   ]
  },
  {
   "cell_type": "code",
   "execution_count": null,
   "id": "06e97093",
   "metadata": {},
   "outputs": [],
   "source": [
    "fig, axs = plt.subplots(1, 1, figsize=(8, 5))\n",
    "sns.rugplot(data=df, x=\"Attack\", y=\"Defense\", ax=axs, hue=\"Stage\")\n",
    "sns.scatterplot(data=df, x=\"Attack\", y=\"Defense\", hue=\"Stage\", ax=axs)\n",
    "plt.show()"
   ]
  },
  {
   "cell_type": "markdown",
   "id": "34495416",
   "metadata": {},
   "source": [
    "### słupki błędów "
   ]
  },
  {
   "cell_type": "code",
   "execution_count": null,
   "id": "105fe0c7",
   "metadata": {},
   "outputs": [],
   "source": [
    "flights = sns.load_dataset(\"flights\")\n",
    "flights.head()"
   ]
  },
  {
   "cell_type": "code",
   "execution_count": null,
   "id": "cb36ea94",
   "metadata": {},
   "outputs": [],
   "source": [
    "fig, axs = plt.subplots(1, 1, figsize=(8, 4))\n",
    "sns.lineplot(flights, x=\"month\", y=\"passengers\")  # domyślnie errorbar = ('ci', 95) - przedział ufności 95% \n",
    "plt.show()"
   ]
  },
  {
   "cell_type": "code",
   "execution_count": null,
   "id": "d5835273",
   "metadata": {},
   "outputs": [],
   "source": [
    "fig, axs = plt.subplots(1, 1, figsize=(8, 4))\n",
    "sns.lineplot(flights, x=\"month\", y=\"passengers\", errorbar = \"sd\") # \"sd\" - odchylenie standardowe\n",
    "plt.show()"
   ]
  },
  {
   "cell_type": "code",
   "execution_count": null,
   "id": "7020e233",
   "metadata": {},
   "outputs": [],
   "source": [
    "fig, axs = plt.subplots(1, 1, figsize=(8, 4))\n",
    "sns.lineplot(flights, x=\"month\", y=\"passengers\", errorbar=\"se\") # \"se\" - błąd standardowy\n",
    "plt.show()"
   ]
  }
 ],
 "metadata": {
  "kernelspec": {
   "display_name": "Python 3 (ipykernel)",
   "language": "python",
   "name": "python3"
  },
  "language_info": {
   "codemirror_mode": {
    "name": "ipython",
    "version": 3
   },
   "file_extension": ".py",
   "mimetype": "text/x-python",
   "name": "python",
   "nbconvert_exporter": "python",
   "pygments_lexer": "ipython3",
   "version": "3.10.5"
  }
 },
 "nbformat": 4,
 "nbformat_minor": 5
}
