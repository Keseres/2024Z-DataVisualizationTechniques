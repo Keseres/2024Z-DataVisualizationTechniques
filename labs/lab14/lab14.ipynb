{
 "cells": [
  {
   "cell_type": "markdown",
   "id": "1f8e3166",
   "metadata": {},
   "source": [
    "# plotly\n",
    "\n",
    "[https://plotly.com/python/](https://plotly.com/python/)"
   ]
  },
  {
   "cell_type": "code",
   "execution_count": null,
   "id": "dab2a139",
   "metadata": {},
   "outputs": [],
   "source": [
    "import plotly.express as px\n",
    "import pandas as pd\n",
    "import numpy as np"
   ]
  },
  {
   "cell_type": "markdown",
   "id": "0605dc47",
   "metadata": {},
   "source": [
    "### Dane dotyczące Pokemonów"
   ]
  },
  {
   "cell_type": "code",
   "execution_count": null,
   "id": "8ff35a89",
   "metadata": {},
   "outputs": [],
   "source": [
    "df = pd.read_csv(\"https://raw.githubusercontent.com/mini-pw/2021Z-DataVisualizationTechniques/master/labs/data/Pokemon.csv\", index_col=0, sep=\",\")\n",
    "df.head()"
   ]
  },
  {
   "cell_type": "markdown",
   "id": "792ce37a",
   "metadata": {},
   "source": [
    "### Rysowanie prostych wykresów"
   ]
  },
  {
   "cell_type": "code",
   "execution_count": null,
   "id": "c5a306bb",
   "metadata": {},
   "outputs": [],
   "source": [
    "px.scatter(df,\n",
    "           x = \"Attack\",\n",
    "           y = \"Defense\",\n",
    "           color = \"Legendary\",\n",
    "           title = \"Attack vs Defence\",\n",
    "           hover_name = \"Name\")"
   ]
  },
  {
   "cell_type": "markdown",
   "id": "36986876",
   "metadata": {},
   "source": [
    "### Zmiana nazw osi/legendy"
   ]
  },
  {
   "cell_type": "code",
   "execution_count": null,
   "id": "e9751be0",
   "metadata": {},
   "outputs": [],
   "source": [
    "px.scatter(df,\n",
    "           x = \"Attack\",\n",
    "           y = \"Defense\",\n",
    "           color = \"Legendary\",\n",
    "           title = \"Atak vs. obrona\",\n",
    "           labels = {\n",
    "               \"Attack\": \"Punkty ataku\",\n",
    "               \"Defense\": \"Punkty obrony\",\n",
    "               \"Legendary\": \"Czy legendarny?\"\n",
    "           })"
   ]
  },
  {
   "cell_type": "markdown",
   "id": "10a9dcb1",
   "metadata": {},
   "source": [
    "### Skale kolorów\n",
    "- sekwencyjna\n",
    "- dyskretna"
   ]
  },
  {
   "cell_type": "code",
   "execution_count": null,
   "id": "97c51f97",
   "metadata": {},
   "outputs": [],
   "source": [
    "px.scatter(df,\n",
    "           x = \"Attack\",\n",
    "           y = \"Defense\",\n",
    "           color = \"HP\",\n",
    "           title = \"Attack vs. Defense vs. HP\",\n",
    "           hover_name = \"Name\"\n",
    "          ) # skala sekwencyjna"
   ]
  },
  {
   "cell_type": "code",
   "execution_count": null,
   "id": "32c96b93",
   "metadata": {},
   "outputs": [],
   "source": [
    "px.scatter(df,\n",
    "           x = \"Attack\",\n",
    "           y = \"Defense\",\n",
    "           color = \"Type 1\",\n",
    "           title = \"Attack vs. Defense by Type\"\n",
    "          ) # skala dyskretna"
   ]
  },
  {
   "cell_type": "markdown",
   "id": "99360b77",
   "metadata": {},
   "source": [
    "**Uwaga** domyślna skala kolorów ma tylko 10 kolorów, dla większej ilości typów następuje zapętlenie bez ostrzeżenia!\n",
    "\n",
    "### Zmiana dyskretnej skali kolorów na jedną z wbudowanych"
   ]
  },
  {
   "cell_type": "code",
   "execution_count": null,
   "id": "b9c72743",
   "metadata": {
    "scrolled": false
   },
   "outputs": [],
   "source": [
    "px.scatter(df,\n",
    "           x = \"Attack\",\n",
    "           y = \"Defense\",\n",
    "           color = \"Type 1\",\n",
    "           title = \"Attack vs. Defense by Type\",\n",
    "           color_discrete_sequence = px.colors.qualitative.Light24 # skala dyskretna ustawiona ręcznie\n",
    "          ) "
   ]
  },
  {
   "cell_type": "markdown",
   "id": "cbba6acd",
   "metadata": {},
   "source": [
    "Wbudowane dyskretne skale kolorów"
   ]
  },
  {
   "cell_type": "code",
   "execution_count": null,
   "id": "0d1997f7",
   "metadata": {},
   "outputs": [],
   "source": [
    "px.colors.qualitative.swatches()"
   ]
  },
  {
   "cell_type": "code",
   "execution_count": null,
   "id": "115a49b7",
   "metadata": {},
   "outputs": [],
   "source": [
    "px.scatter(df,\n",
    "           x = \"Attack\",\n",
    "           y = \"Defense\",\n",
    "           color = \"HP\",\n",
    "           title = \"Attack vs. Defense vs. HP\",\n",
    "           color_continuous_scale = px.colors.sequential.OrRd # skala sekwencyjna ustawiona ręcznie\n",
    "          ) "
   ]
  },
  {
   "cell_type": "code",
   "execution_count": null,
   "id": "99e4c63b",
   "metadata": {},
   "outputs": [],
   "source": [
    "px.colors.sequential.swatches_continuous()"
   ]
  },
  {
   "cell_type": "code",
   "execution_count": null,
   "id": "5900ed0f",
   "metadata": {},
   "outputs": [],
   "source": [
    "px.scatter(df,\n",
    "           x = \"Attack\",\n",
    "           y = \"Defense\",\n",
    "           color = \"Type 1\",\n",
    "           title = \"Attack vs. Defense by Type\",\n",
    "           color_discrete_sequence = [\"red\", \"blue\", \"#00ff00\"] # możemy też skale ustawiać ręcznie\n",
    "          ) "
   ]
  },
  {
   "cell_type": "markdown",
   "id": "783e47be",
   "metadata": {},
   "source": [
    "### Inne typy wykresów\n",
    "#### Histogram"
   ]
  },
  {
   "cell_type": "code",
   "execution_count": null,
   "id": "57b68b5f",
   "metadata": {},
   "outputs": [],
   "source": [
    "px.histogram(df,\n",
    "             x = \"HP\",\n",
    "             title = \"Histogram of the HP variable\")"
   ]
  },
  {
   "cell_type": "markdown",
   "id": "89eff6d6",
   "metadata": {},
   "source": [
    "#### Wykres słupkowy"
   ]
  },
  {
   "cell_type": "code",
   "execution_count": null,
   "id": "ba6f3e09",
   "metadata": {},
   "outputs": [],
   "source": [
    "avg_df = df.groupby([\"Type 1\"]).agg({\"HP\": \"mean\", \"Attack\": \"mean\"}).reset_index().sort_values([\"Attack\", \"HP\"])\n",
    "\n",
    "px.bar(avg_df,\n",
    "       x = \"Type 1\",\n",
    "       y = \"Attack\",\n",
    "       title = \"Average attack by Pokemon type\",\n",
    "       labels = {\n",
    "           \"Attack\": \"Average attack score\",\n",
    "           \"Type 1\": \"Type of Pokemon\"\n",
    "       })"
   ]
  },
  {
   "cell_type": "markdown",
   "id": "7bbbf432",
   "metadata": {},
   "source": [
    "**Nowość!** Można podawać dane w postaci szerokiej"
   ]
  },
  {
   "cell_type": "code",
   "execution_count": null,
   "id": "b886d752",
   "metadata": {},
   "outputs": [],
   "source": [
    "px.bar(avg_df,\n",
    "       x = \"Type 1\",\n",
    "       y = [\"Attack\", \"HP\"],\n",
    "       title = \"Average attack and HP by Pokemon type\",\n",
    "       barmode = \"group\", ## domyślnie bez tej linijki słupki zestackowane - spróbuj zakomenotwać\n",
    "       labels = {\n",
    "           \"Attack\": \"Average attack score\",\n",
    "           \"Type 1\": \"Type of Pokemon\",\n",
    "           \"variable\": \"Statistic\",\n",
    "           \"value\": \"Value of statistic\"\n",
    "       })"
   ]
  },
  {
   "cell_type": "markdown",
   "id": "3505288e",
   "metadata": {},
   "source": [
    "#### Wykresy pudełkowe"
   ]
  },
  {
   "cell_type": "code",
   "execution_count": null,
   "id": "28f4e0ca",
   "metadata": {},
   "outputs": [],
   "source": [
    "px.box(df,\n",
    "       x = \"Type 1\",\n",
    "       y = \"Attack\",\n",
    "       color = \"Type 1\") #jeśli tu podamy inną zmienną np. \"Stage\" to każdy Typ zostanie jeszcze podzielony na Stage"
   ]
  },
  {
   "cell_type": "markdown",
   "id": "2b138707",
   "metadata": {},
   "source": [
    "#### Wykresy skrzypcowe"
   ]
  },
  {
   "cell_type": "code",
   "execution_count": null,
   "id": "bf39b1ba",
   "metadata": {},
   "outputs": [],
   "source": [
    "fig = px.violin(df,\n",
    "          y = \"Type 1\",\n",
    "          x = \"Attack\",\n",
    "          color = \"Type 1\",\n",
    "          orientation = \"h\",\n",
    "          box = True) # dodanie boxplotów w środku \n",
    "fig.show()"
   ]
  },
  {
   "cell_type": "markdown",
   "id": "761255b4",
   "metadata": {},
   "source": [
    "Czym tak naprawdę jest figura?"
   ]
  },
  {
   "cell_type": "code",
   "execution_count": null,
   "id": "f5fbccb9",
   "metadata": {},
   "outputs": [],
   "source": [
    "print(fig)"
   ]
  },
  {
   "cell_type": "markdown",
   "id": "a488a38e",
   "metadata": {},
   "source": [
    "#### Wykresy liniowe\n",
    "\n",
    "- Możliwość podawania danych ręcznie (nie z pd.DataFrame)\n",
    "- Zmiana zakresu osi"
   ]
  },
  {
   "cell_type": "code",
   "execution_count": null,
   "id": "a6e55cad",
   "metadata": {},
   "outputs": [],
   "source": [
    "x_list = [i for i in range(-10,11)]\n",
    "y1_list = [i**2 for i in x_list]\n",
    "y2_list = [i**3 for i in x_list]\n",
    "\n",
    "fig = px.line(df,\n",
    "              x = x_list,\n",
    "              y = [y1_list, y2_list])\n",
    "fig.show()"
   ]
  },
  {
   "cell_type": "code",
   "execution_count": null,
   "id": "75358e5a",
   "metadata": {},
   "outputs": [],
   "source": [
    "fig.update_layout(xaxis_range=[0,10],\n",
    "                  yaxis_range=[0, 100])\n",
    "fig.show()"
   ]
  },
  {
   "cell_type": "markdown",
   "id": "bbed85d3",
   "metadata": {},
   "source": [
    "#### Heatmapy\n",
    "- Za pomocą `px.imshow`"
   ]
  },
  {
   "cell_type": "code",
   "execution_count": null,
   "id": "f3b277cb",
   "metadata": {},
   "outputs": [],
   "source": [
    "correlation_df = df.iloc[:, 4:10].corr().round(3)\n",
    "correlation_df"
   ]
  },
  {
   "cell_type": "code",
   "execution_count": null,
   "id": "9e56c9ff",
   "metadata": {},
   "outputs": [],
   "source": [
    "px.imshow(correlation_df, \n",
    "          color_continuous_scale = px.colors.sequential.RdBu_r, # _r odwraca skalę kolorów\n",
    "          title = \"Correlation of Pokemon statistics\",\n",
    "          zmin = -1,\n",
    "          zmax = 1,\n",
    "          text_auto = True)"
   ]
  },
  {
   "cell_type": "markdown",
   "id": "478b2106",
   "metadata": {},
   "source": [
    "### Nakładanie wykresów\n",
    "- oś logartmiczna"
   ]
  },
  {
   "cell_type": "code",
   "execution_count": null,
   "id": "1311d484",
   "metadata": {},
   "outputs": [],
   "source": [
    "fig = px.scatter(df,\n",
    "           x = \"Attack\",\n",
    "           y = \"Defense\",\n",
    "           color = \"HP\",\n",
    "           title = \"Attack vs. Defense vs. HP\",\n",
    "           log_y = True # oś logarytmizna\n",
    "          )\n",
    "\n",
    "fig_line = px.line(df.groupby(\"Attack\").agg(\"Defense\").mean(), color_discrete_sequence = [\"red\"])\n",
    "\n",
    "fig.add_trace(fig_line.data[0])\n",
    "fig.update_layout(coloraxis_colorbar={\"len\":0.7}) # żeby legenda linii nie nachodziła na legendę kolorów\n",
    "\n",
    "fig.show()"
   ]
  },
  {
   "cell_type": "markdown",
   "id": "88ed9447",
   "metadata": {},
   "source": [
    "### Wykresy 3d\n",
    "- zmiana markerów\n",
    "- zmiana rozmiaru"
   ]
  },
  {
   "cell_type": "code",
   "execution_count": null,
   "id": "b93f6208",
   "metadata": {},
   "outputs": [],
   "source": [
    "px.scatter_3d(df,\n",
    "              x = \"HP\",\n",
    "              y = \"Defense\",\n",
    "              z = \"Attack\",\n",
    "              color = \"Type 1\",\n",
    "              symbol = \"Type 1\", # wzorki\n",
    "              size = \"Total\",\n",
    "              hover_name = \"Name\") # rozmiary"
   ]
  },
  {
   "cell_type": "markdown",
   "id": "958a5cda",
   "metadata": {},
   "source": [
    "### Zaawansowane funkcje z użyciem `plotly.graph_objects`\n",
    "\n",
    "Figury są tworzone w plotly za pomocą strukury danych `graph_objects`. Plotly express, pozwlala na szybkie tworzenie wykresów, jednak nie mamy wszystkich możliwości ich edycji. Niestety, nie działa to już tak fajnie z pandasem."
   ]
  },
  {
   "cell_type": "code",
   "execution_count": null,
   "id": "9f33dc8f",
   "metadata": {},
   "outputs": [],
   "source": [
    "import plotly.graph_objects as go"
   ]
  },
  {
   "cell_type": "markdown",
   "id": "2882db8a",
   "metadata": {},
   "source": [
    "#### Zmiana template'u tekstu pojawiającego się po najechaniu"
   ]
  },
  {
   "cell_type": "code",
   "execution_count": null,
   "id": "589ff743",
   "metadata": {},
   "outputs": [],
   "source": [
    "fig = go.Figure()\n",
    "\n",
    "obj1 = go.Scatter(x = df.Attack,\n",
    "                  y = df.Defense,\n",
    "                  mode = \"markers\",\n",
    "                  marker = {\"color\": df[\"HP\"]},\n",
    "                  \n",
    "                  text = [f\"Ta kropka dotyczy pokemona {df.loc[i, 'Name']} o ataku {df.loc[i, 'Attack']}\" for i in df.index],\n",
    "                  \n",
    "                  hovertemplate = \"\"\"<i>%{text}</i><br>\n",
    "                  <b>%{x:.2f}</b> \n",
    "                  <extra>A jego obrona to %{y:.1f}</extra>\n",
    "                  \"\"\")\n",
    "\n",
    "fig.add_trace(obj1)\n",
    "fig.update_layout(title = \"Attack vs. Defense vs. HP\")\n",
    "fig.update_xaxes(title = \"Attack\")\n",
    "fig.update_yaxes(title = \"Defense\")\n",
    "\n",
    "fig.show()\n",
    "\n"
   ]
  },
  {
   "cell_type": "markdown",
   "id": "88c5e4cb",
   "metadata": {},
   "source": [
    "#### Wyłączenie guzików"
   ]
  },
  {
   "cell_type": "code",
   "execution_count": null,
   "id": "97498081",
   "metadata": {},
   "outputs": [],
   "source": [
    "fig = go.Figure()\n",
    "\n",
    "obj1 = go.Scatter(x = df.Attack,\n",
    "                  y = df.Defense,\n",
    "                  mode = \"markers\",\n",
    "                  marker = {\"color\":df[\"HP\"]})\n",
    "\n",
    "fig.add_trace(obj1)\n",
    "fig.update_layout(title = \"Attack vs. Defense vs. HP\")\n",
    "fig.update_xaxes(title = \"Attack\")\n",
    "fig.update_yaxes(title = \"Defense\")\n",
    "\n",
    "fig.show(config = {\"modeBarButtonsToRemove\": [\"toImage\", \"hoverClosestPie\", \"zoom2d\", \"pan2d\", \"select2d\", \"lasso2d\", \"zoomIn2d\", \"zoomOut2d\", \"autoScale2d\", \"resetScale2d\"]})\n",
    "\n"
   ]
  },
  {
   "cell_type": "code",
   "execution_count": null,
   "id": "a60ef23d",
   "metadata": {},
   "outputs": [],
   "source": [
    "fig = go.Figure()\n",
    "\n",
    "obj1 = go.Scatter(x = df.Attack,\n",
    "                  y = df.Defense,\n",
    "                  mode = \"markers\",\n",
    "                  marker = {\"color\":df[\"HP\"]})\n",
    "\n",
    "fig.add_trace(obj1)\n",
    "fig.update_layout(title = \"Attack vs. Defense vs. HP\")\n",
    "fig.update_xaxes(title = \"Attack\")\n",
    "fig.update_yaxes(title = \"Defense\")\n",
    "\n",
    "fig.show(config = {\"modeBarButtonsToRemove\": [\"toImage\", \"hoverClosestPie\", \"zoom2d\", \"pan2d\", \"select2d\", \"lasso2d\", \"zoomIn2d\", \"zoomOut2d\", \"autoScale2d\", \"resetScale2d\"],\n",
    "                    \"displaylogo\": False})\n",
    "\n"
   ]
  },
  {
   "cell_type": "markdown",
   "id": "6d997ef2",
   "metadata": {},
   "source": [
    "#### Wykres statyczny"
   ]
  },
  {
   "cell_type": "code",
   "execution_count": null,
   "id": "a7f39460",
   "metadata": {},
   "outputs": [],
   "source": [
    "fig = go.Figure()\n",
    "\n",
    "obj1 = go.Scatter(x = df.Attack,\n",
    "                  y = df.Defense,\n",
    "                  mode = \"markers\",\n",
    "                  marker = {\"color\":df[\"HP\"]})\n",
    "\n",
    "fig.add_trace(obj1)\n",
    "fig.update_layout(title = \"Attack vs. Defense vs. HP\")\n",
    "fig.update_xaxes(title = \"Attack\")\n",
    "fig.update_yaxes(title = \"Defense\")\n",
    "\n",
    "fig.show(config = {\"staticPlot\":True})"
   ]
  },
  {
   "cell_type": "markdown",
   "id": "dc41443d",
   "metadata": {},
   "source": [
    "#### Zmiana motywu wykresu"
   ]
  },
  {
   "cell_type": "code",
   "execution_count": null,
   "id": "d5fa61b5",
   "metadata": {
    "scrolled": false
   },
   "outputs": [],
   "source": [
    "#dostępne motywy\n",
    "templates = ['ggplot2', 'seaborn', 'simple_white', 'plotly',\n",
    "         'plotly_white', 'plotly_dark', 'presentation', 'xgridoff',\n",
    "         'ygridoff', 'gridon', 'none']\n",
    "\n",
    "\n",
    "for template in templates:\n",
    "    fig = px.bar(avg_df,\n",
    "       x = \"Type 1\",\n",
    "       y = [\"Attack\", \"HP\"],\n",
    "       title = \"Average attack and HP by Pokemon type\",\n",
    "       barmode = \"group\",\n",
    "       template = template, # podawanie motywu\n",
    "       labels = {\n",
    "           \"Attack\": \"Average attack score\",\n",
    "           \"Type 1\": \"Type of Pokemon\",\n",
    "           \"variable\": \"Statistic\",\n",
    "           \"value\": \"Value of statistic\"\n",
    "       })\n",
    "    \n",
    "    fig.show()"
   ]
  },
  {
   "cell_type": "markdown",
   "id": "5bcb7c3e",
   "metadata": {},
   "source": [
    "Stosowanie motywu do wszystkich wykresów"
   ]
  },
  {
   "cell_type": "code",
   "execution_count": null,
   "id": "fb70de1c",
   "metadata": {},
   "outputs": [],
   "source": [
    "import plotly.io as pio\n",
    "pio.templates.default = \"plotly_white\""
   ]
  },
  {
   "cell_type": "markdown",
   "id": "acb5ec9c",
   "metadata": {},
   "source": [
    "## Zadania\n",
    "\n",
    "Na podstawie zbioru danych wczytanego w komórce poniżej wykonaj następujące zadania.\n",
    "\n",
    "1. Dobierz odpowiedni typ wizualizacji i narysuj wykres przedstawiający zależność ceny od objętości diamentu (przyjmij diament o kształcie prostopadłościanu o bokach x, y, z).\n",
    "\n",
    "2. Narysuj wykres pokazujący rozkład ceny w zależności od kolorów diamentów (nałóż punkty obrazujące pojedyncze obserwacje).\n",
    "\n",
    "3. Narysuj wykres przedstawiający liczbę diamentów o danej jakości cięcia (`cut`).\n",
    "\n",
    "4. Narysuj wykres przedstawiający zależność liczby karatów od ceny, kolorem przedstaw kolor diamentu.\n"
   ]
  },
  {
   "cell_type": "code",
   "execution_count": null,
   "id": "93d6c45f",
   "metadata": {},
   "outputs": [],
   "source": [
    "diamonds_df = pd.read_csv(\"https://raw.githubusercontent.com/Swatikhedekar/Dada-Analysis-on-Diamonds-Dataset/main/diamonds.csv\", index_col=0)\n",
    "diamonds_df.head()"
   ]
  }
 ],
 "metadata": {
  "kernelspec": {
   "display_name": "Python 3 (ipykernel)",
   "language": "python",
   "name": "python3"
  },
  "language_info": {
   "codemirror_mode": {
    "name": "ipython",
    "version": 3
   },
   "file_extension": ".py",
   "mimetype": "text/x-python",
   "name": "python",
   "nbconvert_exporter": "python",
   "pygments_lexer": "ipython3",
   "version": "3.10.1"
  }
 },
 "nbformat": 4,
 "nbformat_minor": 5
}
